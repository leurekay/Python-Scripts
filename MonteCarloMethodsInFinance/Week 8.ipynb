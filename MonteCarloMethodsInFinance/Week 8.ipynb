{
 "metadata": {
  "name": ""
 },
 "nbformat": 3,
 "nbformat_minor": 0,
 "worksheets": [
  {
   "cells": [
    {
     "cell_type": "code",
     "collapsed": false,
     "input": [
      "from __future__ import division\n",
      "import numpy as np\n",
      "import matplotlib.pylab as plt\n",
      "from scipy.stats import norm"
     ],
     "language": "python",
     "metadata": {},
     "outputs": [],
     "prompt_number": 1
    },
    {
     "cell_type": "heading",
     "level": 1,
     "metadata": {},
     "source": [
      "Week 8 -- Pricing of more complex derivative products"
     ]
    },
    {
     "cell_type": "markdown",
     "metadata": {},
     "source": [
      "In this week we take a look at the pricing of more complex derivatives. Recall from last week that the payoff of a European Call option only depends on the difference between the strike and the underlying asset at the time of maturity, i.e. payoff = $\\text{max}(S_T-K, 0)$. The options in this week go beyond this, and typyically have a more involved payoff structure, different rules on exercising the option (e.g. the option can be exercised at a time different from maturity) or demand some condition on the price of the underlying before the time of maturity.\n",
      "\n",
      "These extra conditions on the options usually implies that we can no longer obtain a closed-form solution for the price. Luckily we have another technique at our disposal to price these objects..."
     ]
    },
    {
     "cell_type": "markdown",
     "metadata": {},
     "source": [
      "The pricing of any derivative is the following three-step process:\n",
      "\n",
      "1. Simulate $M$ trajectories of the underlying (e.g. a stock) over a discretized time-interval. \n",
      "\n",
      "2. For each trajectory we determine the payoff\n",
      "\n",
      "3. Finally, the price of the option is the average of the payoffs of each trajectory ($\\frac{1}{M} \\sum_{\\text{trajectories }}\\text{payoff}(\\text{trajectory})$), which we discount using the risk-free interest rate."
     ]
    },
    {
     "cell_type": "heading",
     "level": 4,
     "metadata": {},
     "source": [
      "Barrier options -- Up and Out Call"
     ]
    },
    {
     "cell_type": "markdown",
     "metadata": {},
     "source": [
      "We consider a European up-and-out barrier option. It has the final payoff structure of an ordinary European Call option. In addition, it comes equipped with a Barrier price $B$. If, at any time, the price of the underlying crosses this Barrier (such that $S_t > B$) then the option is nullified and becomes worthless.\n",
      "\n",
      "In the Black-Scholes model it is possible to obtian a closed-from expression for this price. We will use this to compare our Monte-Carlo pricing scheme to the exact formula. If you are familiar with the deriviation of the pricing of vanilla options in the Black Scholes model, then you probably know that the resulting price of an option is a solution to the heat equation, subject to a particular boundary condition. The pricing of the Barrier option is very similar, but imposes different boundary conditions (i.e. those associated with the Barrier). "
     ]
    },
    {
     "cell_type": "code",
     "collapsed": false,
     "input": [
      "def priceBarrierUpAndOutCall(S0,K,B,r,T,sigma):\n",
      "    \"\"\"\n",
      "    priceBarrierUpAndOutCall: Black-Scholes price of an up and out barrier price option (continuous observations)\n",
      "    INPUT:\n",
      "       S0 : Initial value of the underlying asset\n",
      "        K : Strike \n",
      "        B : Up-and-out barrier \n",
      "        r : Risk-free interest rate \n",
      "        T : Time to expiry \n",
      "    sigma : Volatility \n",
      "\n",
      "    OUTPUT:\n",
      "    price : Price of the option in the Black-Scholes model  \n",
      "\n",
      "    \"\"\"\n",
      "    \n",
      "    def compute_d(S0, K, r, sigma, T):\n",
      "        d1 = (np.log(S0 / K) + (r + .5 * sigma**2) * T) / (sigma * np.sqrt(T))\n",
      "        d0 = d1 - sigma * np.sqrt(T)\n",
      "        return d0, d1\n",
      "    \n",
      "    \n",
      "    mu = r - 0.5 * sigma**2\n",
      "    nu = 2.0* mu / sigma**2\n",
      "    \n",
      "    aux1 = (B/S0)**(nu+2)\n",
      "    aux2 = (B/S0)**(nu)\n",
      "    \n",
      "    K_disc = K * np.exp(-r * T) \n",
      "    \n",
      "    d0, d1  = compute_d(S0,K,r,sigma,T)\n",
      "    price   = S0 * norm.cdf(d1) - K_disc * norm.cdf(d0)\n",
      "    \n",
      "    d0, d1  = compute_d(S0,B,r,sigma,T)\n",
      "    price   = price - S0 * norm.cdf(d1) + K_disc * norm.cdf(d0)\n",
      "    \n",
      "    d0, d1  = compute_d(1.0/S0, 1.0/B, r, sigma, T)\n",
      "    price   = price + aux1 * S0 * norm.cdf(d1) - aux2 * K_disc * norm.cdf(d0)\n",
      "    \n",
      "    d0, d1  = compute_d(1./(K * S0), 1/B**2, r, sigma, T)\n",
      "    price   = price - aux1 * S0 * norm.cdf(d1) + aux2 * K_disc * norm.cdf(d0)\n",
      "  \n",
      "    return price"
     ],
     "language": "python",
     "metadata": {},
     "outputs": [],
     "prompt_number": 2
    },
    {
     "cell_type": "markdown",
     "metadata": {},
     "source": [
      "We first define a generic Monte Carlo scheme for determining the price of an option. It only assumes the underlying is modelled using a geometric Brownian motion, and requires as an input the payoff function of the option. "
     ]
    },
    {
     "cell_type": "code",
     "collapsed": false,
     "input": [
      "def priceOptionMC(S0,r,T,sigma,M,N, payoff_function):\n",
      "    \"\"\"\n",
      "    priceOptionMC: Black-Scholes price of a generic option providing a payoff.\n",
      "    INPUT:\n",
      "       S0 : Initial value of the underlying asset\n",
      "        r : Risk-free interest rate \n",
      "        T : Time to expiry \n",
      "    sigma : Volatility \n",
      "        M : Number of simulations\n",
      "        N : Number of observations\n",
      "    payoff_function : payoff function of the option\n",
      "    \n",
      "    OUTPUT:\n",
      "     price_MC : MC estimate of the price of the option in the Black-Scholes model  \n",
      "     stdev_MC : MC estimate of the standard deviation  \n",
      "\n",
      "    \"\"\"\n",
      "    \n",
      "    ## Generate M x N samples from N(0,1)\n",
      "    X = np.random.randn(M, N)\n",
      "\n",
      "    \n",
      "    ## Simulate M trajectories in N steps\n",
      "    deltaT = T / N\n",
      "    e = np.exp((r-0.5*sigma**2) * deltaT  + sigma * np.sqrt(deltaT) * X)\n",
      "    S = np.cumprod(np.c_[S0 * np.ones((M,1)), e], axis=1)        \n",
      "        \n",
      "        \n",
      "    ## Compute the payoff for each trajectory\n",
      "    payoff = payoff_function(S)\n",
      "\n",
      "    \n",
      "    ## MC estimate of the price and the error of the option\n",
      "    discountFactor = exp(-r*T);\n",
      "    \n",
      "    \n",
      "    price_MC = discountFactor * np.mean(payoff)\n",
      "    stdev_MC = discountFactor * np.std(payoff)/sqrt(M)\n",
      "    return price_MC, stdev_MC"
     ],
     "language": "python",
     "metadata": {},
     "outputs": [],
     "prompt_number": 3
    },
    {
     "cell_type": "markdown",
     "metadata": {},
     "source": [
      "Next we consider the Barrier Up and Out Call option"
     ]
    },
    {
     "cell_type": "code",
     "collapsed": false,
     "input": [
      "def priceBarrierUpAndOutCallMC(S0,K,B,r,T,sigma,M,N):\n",
      "    \"\"\"\n",
      "    priceBarrierUpAndOutCallMC: Black-Scholes price of an up and out barrier call option \n",
      "    INPUT:\n",
      "       S0 : Initial value of the underlying asset\n",
      "        K : Strike |\n",
      "        B : Up-and-out barrier \n",
      "        r : Risk-free interest rate \n",
      "        T : Time to expiry \n",
      "    sigma : Volatility \n",
      "        M : Number of simulations\n",
      "        N : Number of observations\n",
      "\n",
      "    OUTPUT:\n",
      "     price_MC : MC estimate of the price of the option in the Black-Scholes model  \n",
      "     stdev_MC : MC estimate of the standard deviation  \n",
      "\n",
      "    \"\"\"\n",
      "    def payoff_function(S):\n",
      "        return np.where(S[:, -1] < K, 0, S[:, -1] - K) * np.all(S < B, axis=1)\n",
      "    \n",
      "    return priceOptionMC(S0,r, T, sigma, M, N, payoff_function)"
     ],
     "language": "python",
     "metadata": {},
     "outputs": [],
     "prompt_number": 4
    },
    {
     "cell_type": "markdown",
     "metadata": {},
     "source": [
      "Here we have a comparison:"
     ]
    },
    {
     "cell_type": "code",
     "collapsed": false,
     "input": [
      "def comparePriceBarrier():\n",
      "    S0 = 100\n",
      "    K = 90\n",
      "    B = 160\n",
      "    r = .05\n",
      "    T = .1\n",
      "    sigma = .4\n",
      "\n",
      "    \n",
      "    price = priceBarrierUpAndOutCall(S0,K,B,r,T,sigma)\n",
      "    \n",
      "    M = 1e5\n",
      "    N = 20\n",
      "    \n",
      "    price_MC, stdev_MC = priceBarrierUpAndOutCallMC(S0,K,B,r,T,sigma,M,N)    \n",
      "\n",
      "    return price, price_MC, stdev_MC, (price - price_MC) / price\n",
      "\n",
      "print \"True price, Price estimate, std answer, True error:\"\n",
      "print comparePriceBarrier()"
     ],
     "language": "python",
     "metadata": {},
     "outputs": [
      {
       "output_type": "stream",
       "stream": "stdout",
       "text": [
        "True price, Price estimate, std answer, True error:\n",
        "(11.69842813465057, 11.675576778289024, 0.03471850651444669, 0.0019533698116125878)"
       ]
      },
      {
       "output_type": "stream",
       "stream": "stdout",
       "text": [
        "\n"
       ]
      }
     ],
     "prompt_number": 5
    },
    {
     "cell_type": "markdown",
     "metadata": {},
     "source": [
      "Note that the estimated variance of the MC price does not take into account the error that arises due to the discretization `N`."
     ]
    },
    {
     "cell_type": "heading",
     "level": 4,
     "metadata": {},
     "source": [
      "Asian options"
     ]
    },
    {
     "cell_type": "markdown",
     "metadata": {},
     "source": [
      "In an Asian option the final payoff of the option is decided by comparing the strike K with the mean of the underlying at a set number of times preceding the option. So instead of comparing K to the final price at maturity S_T, we compare it with the mean of the price S(t) at times $t_1, t_2, ..., t_{N-1}, t_N = T$. with $t_i < T$ for $i=1, ..., N-1$.\n",
      "\n",
      "There are two versions of Asian option: we can take the arithmic mean ($\\frac{1}{N}\\sum_{i=1}^N S(t_i)$) or the geometric mean $\\exp\\big(\\frac{1}{N}\\sum_{i=1}^N \\log(S_i)\\big)$. The geometric mean has the advantage of allowing for a closed expression, which we implement now."
     ]
    },
    {
     "cell_type": "code",
     "collapsed": false,
     "input": [
      "def priceAsianGeometricMeanCall(S0,K,r,T,sigma,N):\n",
      "    \"\"\"\n",
      "    priceAsianGeometricMeanCall: Price of a Asian call option on the geometric mean in the Black-Scholes model\n",
      "    INPUT:\n",
      "       S0 : Initial value of the underlying asset\n",
      "        K : Strike \n",
      "        r : Risk-free interest rate \n",
      "        T : Time to expiry \n",
      "    sigma : Volatility \n",
      "        N : Number of monitoring times\n",
      "\n",
      "    OUTPUT:\n",
      "    price : Price of the option in the Black-Scholes model  \n",
      "    \"\"\"\n",
      "\n",
      "    ## Auxiliary parameters\n",
      "    r_GM     = 0.5 * (r * (N+1) / N - sigma**2 * (1.0 - 1.0/N**2) / 6.0)\n",
      "    sigma_GM = sigma * np.sqrt((2.0 * N**2 + 3.0 * N + 1.0) / (6.0 * N**2))\n",
      "    \n",
      "    d_plus  = log(S0/(K*np.exp(-r_GM*T)))/(sigma_GM*sqrt(T)) + sigma_GM*np.sqrt(T)/2.0\n",
      "    d_minus = d_plus - sigma_GM*np.sqrt(T)\n",
      "    \n",
      "    \n",
      "    ## Pricing formula\n",
      "    price = np.exp(-r*T)*(S0*np.exp(r_GM*T)*norm.cdf(d_plus)-K*norm.cdf(d_minus))\n",
      "    \n",
      "    return price"
     ],
     "language": "python",
     "metadata": {},
     "outputs": [],
     "prompt_number": 6
    },
    {
     "cell_type": "markdown",
     "metadata": {},
     "source": [
      "Again, we are not interested in where this expression comes from -- we only use it to bench the MC approach.\n",
      "\n",
      "\n",
      "For the MC implementation we only need to define the payoff function. Note that we can set the discretization of the geometric Brownian motion equal to the number of observations in the Asian option."
     ]
    },
    {
     "cell_type": "code",
     "collapsed": false,
     "input": [
      "def priceAsianGeometricMeanCallMC(S0,K,r,T,sigma,M,N):\n",
      "    \"\"\"\n",
      "    priceAsianGeometricMeanCallMC: Price of a Asian call option on the geometric mean in the Black-Scholes model\n",
      "\n",
      "    INPUT:\n",
      "       S0 : Initial value of the underlying asset\n",
      "        K : Strike \n",
      "        r : Risk-free interest rate \n",
      "        T : Time to expiry \n",
      "    sigma : Volatility \n",
      "        M : Number of simulations\n",
      "        N : Number of observations\n",
      "\n",
      "    OUTPUT:\n",
      "        price_MC : MC estimate of the price of the option in the Black-Scholes model  \n",
      "        stdev_MC : MC estimate of the standard deviation  \n",
      "    \"\"\"\n",
      "    def payoff(S):\n",
      "        S_mean = np.exp(np.mean(np.log(S[:, 1:]), 1))\n",
      "        return np.where(S_mean < K, 0, S_mean -K)\n",
      "    \n",
      "    return priceOptionMC(S0,r,T,sigma,M,N, payoff)"
     ],
     "language": "python",
     "metadata": {},
     "outputs": [],
     "prompt_number": 7
    },
    {
     "cell_type": "markdown",
     "metadata": {},
     "source": [
      "And we compare these two pricing schemes again."
     ]
    },
    {
     "cell_type": "code",
     "collapsed": false,
     "input": [
      "def comparePriceAsianGeometric():\n",
      "    S0 = 100; r = 0.05; K = 90; T = 2; sigma = 0.4; N = 24;\n",
      "    M = 1e6;\n",
      "    \n",
      "    price = priceAsianGeometricMeanCall(S0,K,r,T,sigma,N)   \n",
      "    price_MC, stdev_MC = priceAsianGeometricMeanCallMC(S0,K,r,T,sigma,M,N)    \n",
      "\n",
      "    return price, price_MC, stdev_MC, (price - price_MC) / price\n",
      "\n",
      "print \"True price, Price estimate, std answer, True error:\"\n",
      "print comparePriceAsianGeometric()"
     ],
     "language": "python",
     "metadata": {},
     "outputs": [
      {
       "output_type": "stream",
       "stream": "stdout",
       "text": [
        "True price, Price estimate, std answer, True error:\n",
        "(18.200498107337555, 18.203293660236795, 0.025861694758367866, -0.00015359760390914901)"
       ]
      },
      {
       "output_type": "stream",
       "stream": "stdout",
       "text": [
        "\n"
       ]
      }
     ],
     "prompt_number": 8
    },
    {
     "cell_type": "markdown",
     "metadata": {},
     "source": [
      "Finally, let's price an option for which we do not have a closed expression: an Asian option which makes use of the arithmetic mean. We have "
     ]
    },
    {
     "cell_type": "code",
     "collapsed": false,
     "input": [
      "def priceAsianArithmeticMeanCallMC(S0,K,r,T,sigma,M,N):\n",
      "    \"\"\"\n",
      "    priceAsianArithmeticMeanCall: Price of a Asian call option on the arithmetic mean in the Black-Scholes model\n",
      "\n",
      "    INPUT:\n",
      "       S0 : Initial value of the underlying asset\n",
      "        K : Strike \n",
      "        r : Risk-free interest rate \n",
      "        T : Time to expiry \n",
      "    sigma : Volatility \n",
      "        M : Number of simulations\n",
      "        N : Number of observations\n",
      "\n",
      "    OUTPUT:\n",
      "      price_MC : MC estimate of the price of the option in the Black-Scholes model\n",
      "      stdev_MC : MC estimate of the standard deviation  \n",
      "%\n",
      "%% EXAMPLE:   \n",
      "%        S0 = 100; K = 90; r = 0.05; T = 2; sigma = 0.4;\n",
      "%        M = 1e5; N = 24;\n",
      "%        [price_MC,stdev_MC] = priceAsianArithmeticMeanCallMC(S0,K,r,T,sigma,M,N)\n",
      "    \"\"\"\n",
      "    def payoff(S):\n",
      "        S_ar_mean = np.mean(S[:, 1:], 1)\n",
      "        return np.where(S_ar_mean < K, 0, S_ar_mean - K)\n",
      "    return priceOptionMC(S0,r,T,sigma,M,N, payoff)"
     ],
     "language": "python",
     "metadata": {},
     "outputs": [],
     "prompt_number": 9
    },
    {
     "cell_type": "code",
     "collapsed": false,
     "input": [
      "def examplePriceArithmeticAsian():\n",
      "    S0 = 100; K = 90; r = 0.05; T = 2; sigma = 0.4;\n",
      "    M = 1e5; N = 24;\n",
      "    return priceAsianArithmeticMeanCallMC(S0,K,r,T,sigma,M,N)"
     ],
     "language": "python",
     "metadata": {},
     "outputs": [],
     "prompt_number": 10
    },
    {
     "cell_type": "code",
     "collapsed": false,
     "input": [
      "examplePriceArithmeticAsian()"
     ],
     "language": "python",
     "metadata": {},
     "outputs": [
      {
       "metadata": {},
       "output_type": "pyout",
       "prompt_number": 11,
       "text": [
        "(20.021267213508082, 0.089925383109828061)"
       ]
      }
     ],
     "prompt_number": 11
    },
    {
     "cell_type": "heading",
     "level": 4,
     "metadata": {},
     "source": [
      "Asian Options -- Using the geometric Asian option as a control variate for the arithmetic Asian option."
     ]
    },
    {
     "cell_type": "markdown",
     "metadata": {},
     "source": [
      "Since we can solve the geometric case exactly, we can compare the quality of the MC simulation to the exact price. This is not the case for the arithmetic mean for which we do not have an exact solution. However, we know that the geometric and arithmetic pricing schemes are highly correlated if we use the same simulations to evaluate their prices. Put differently, the error of the geometric Asian option will be highly correlated to the error in the arithmetic option, if we use the same simulation."
     ]
    },
    {
     "cell_type": "code",
     "collapsed": false,
     "input": [
      "def priceOptionMCWithSAsInput(S, r, T, M, payoff_function):\n",
      "    \"\"\"\n",
      "    priceOptionMC: Black-Scholes price of a generic option providing a payoff.\n",
      "    INPUT:\n",
      "        S : A set of pre-computed simulations of Brownian motion\n",
      "        r : Risk-free interest rate\n",
      "        M : Number of simulations\n",
      "        T : Time to maturity\n",
      "    payoff_function : payoff function of the option\n",
      "    \n",
      "    OUTPUT:\n",
      "     price_MC : MC estimate of the price of the option in the Black-Scholes model  \n",
      "     stdev_MC : MC estimate of the standard deviation  \n",
      "\n",
      "    \"\"\"\n",
      "   \n",
      "    ## Compute the payoff for each trajectory\n",
      "    payoff = payoff_function(S)\n",
      "\n",
      "    \n",
      "    ## MC estimate of the price and the error of the option\n",
      "    discountFactor = exp(-r*T);\n",
      "        \n",
      "    price_MC = discountFactor * np.mean(payoff)\n",
      "    stdev_MC = discountFactor * np.std(payoff)/sqrt(M)\n",
      "    return payoff, price_MC, stdev_MC"
     ],
     "language": "python",
     "metadata": {},
     "outputs": [],
     "prompt_number": 12
    },
    {
     "cell_type": "code",
     "collapsed": false,
     "input": [
      "def  priceAsianArithmeticMeanCallMC_withControlVariate(S0,K,r,T,sigma,M,N):\n",
      "    \"\"\"\n",
      "    priceOptionMC: Black-Scholes price of a generic option providing a payoff.\n",
      "    \n",
      "    INPUT:\n",
      "       S0 : Initial value of the underlying asset\n",
      "        r : Risk-free interest rate \n",
      "        T : Time to expiry \n",
      "    sigma : Volatility \n",
      "        M : Number of simulations\n",
      "        N : Number of observations\n",
      "    payoff_function : payoff function of the option\n",
      "    \n",
      "    OUTPUT:\n",
      "     price_MC : MC estimate of the price of the option in the Black-Scholes model  \n",
      "     stdev_MC : MC estimate of the standard deviation  \n",
      "\n",
      "    \"\"\"\n",
      "    \n",
      "    ## Generate M x N samples from N(0,1)\n",
      "    X = np.random.randn(M, N)\n",
      "\n",
      "    ## Simulate M trajectories in N steps\n",
      "    deltaT = T / N\n",
      "    e = np.exp((r-0.5*sigma**2) * deltaT  + sigma * np.sqrt(deltaT) * X)\n",
      "    S = np.cumprod(np.c_[S0 * np.ones((M,1)), e], axis=1)        \n",
      "        \n",
      "    def arithmeticMean(S):\n",
      "        S_mean = np.mean(S[:, 1:], 1)\n",
      "        return np.where(S_mean < K, 0, S_mean - K)\n",
      "        \n",
      "    def geometricMean(S):\n",
      "        S_mean = np.exp(np.mean(np.log(S[:, 1:]), 1))\n",
      "        return np.where(S_mean < K, 0, S_mean - K)    \n",
      "        \n",
      "        \n",
      "    payoff_ar, price_ar, std_ar = priceOptionMCWithSAsInput(S, r, T, M, arithmeticMean)\n",
      "    payoff_geom, price_geom, std_geom = priceOptionMCWithSAsInput(S, r, T, M, geometricMean)\n",
      "    price_geom_exact = priceAsianGeometricMeanCall(S0,K,r,T,sigma,N)\n",
      "    \n",
      "    \n",
      "    covarianceMatrix = np.cov(np.c_[payoff_ar, payoff_geom].T)\n",
      "    \n",
      "    var_ar = covarianceMatrix[0,0]\n",
      "    var_geom = covarianceMatrix[1,1]\n",
      "    cov_ar_geom = covarianceMatrix[0,1]\n",
      "    \n",
      "    corr_ar_geom = cov_ar_geom / np.sqrt(var_ar * var_geom)\n",
      "    \n",
      "    \n",
      "    price_MC = price_ar - cov_ar_geom / var_geom * (price_geom - price_geom_exact)\n",
      "    std_MC = std_ar * np.sqrt(1 - corr_ar_geom**2)\n",
      "    return price_MC, std_MC"
     ],
     "language": "python",
     "metadata": {},
     "outputs": [],
     "prompt_number": 13
    },
    {
     "cell_type": "markdown",
     "metadata": {},
     "source": [
      "For example:"
     ]
    },
    {
     "cell_type": "code",
     "collapsed": false,
     "input": [
      "priceAsianArithmeticMeanCallMC_withControlVariate(100, 50, .01, .5, .05, 1000, 20)"
     ],
     "language": "python",
     "metadata": {},
     "outputs": [
      {
       "metadata": {},
       "output_type": "pyout",
       "prompt_number": 14,
       "text": [
        "(50.012110224070128, 0.00029075949494943601)"
       ]
      }
     ],
     "prompt_number": 14
    },
    {
     "cell_type": "markdown",
     "metadata": {},
     "source": [
      "Let's compare it with the straightforward MC method:"
     ]
    },
    {
     "cell_type": "code",
     "collapsed": false,
     "input": [
      "def examplePriceArithmeticAsian():\n",
      "    S0 = 100; K = 90; r = 0.05; T = 2; sigma = 0.4;\n",
      "    M = 1e5; N = 24;\n",
      "    price_direct, std_direct =  priceAsianArithmeticMeanCallMC(S0,K,r,T,sigma,M,N)\n",
      "    price_control, std_control = priceAsianArithmeticMeanCallMC_withControlVariate(S0,K,r,T,sigma,M,N)\n",
      "    return price_direct, std_direct, price_control, std_control"
     ],
     "language": "python",
     "metadata": {},
     "outputs": [],
     "prompt_number": 15
    },
    {
     "cell_type": "code",
     "collapsed": false,
     "input": [
      "print \"Price of direct MC method, std of direct MC method, price using control, std using control:\"\n",
      "print examplePriceArithmeticAsian()"
     ],
     "language": "python",
     "metadata": {},
     "outputs": [
      {
       "output_type": "stream",
       "stream": "stdout",
       "text": [
        "Price of direct MC method, std of direct MC method, price using control, std using control:\n",
        "(20.119139232990587, 0.090583766542370006, 19.990375806117381, 0.0068455288947210291)"
       ]
      },
      {
       "output_type": "stream",
       "stream": "stdout",
       "text": [
        "\n"
       ]
      }
     ],
     "prompt_number": 16
    },
    {
     "cell_type": "markdown",
     "metadata": {},
     "source": [
      "Note the large reduction in variance using the control variate."
     ]
    },
    {
     "cell_type": "heading",
     "level": 4,
     "metadata": {},
     "source": [
      "Towards basket options: multivariate Guassians"
     ]
    },
    {
     "cell_type": "markdown",
     "metadata": {},
     "source": [
      "The last exotic option we treat are so-called basket options. For this we require a random number generator which draws samples from a multivariate Gaussian distribution. Such a distribution is characterized by a $D$-dimensional vector of means, $\\lbrace\\mu_i\\rbrace_{i=0}^{D-1}$ and a $(D\\times D)$ dimensional covariance matrix $\\Sigma_{ij}$. \n",
      "\n",
      "The method employed below draws samples from a standardized normal distribution, and then transforms this into the appropriate multivariate Guassian distribution using the Cholesky decomposition of the covariance matrix. The method briefly described here:\n",
      "\n",
      "https://en.wikipedia.org/wiki/Multivariate_normal_distribution#Drawing_values_from_the_distribution"
     ]
    },
    {
     "cell_type": "code",
     "collapsed": false,
     "input": [
      "from scipy.linalg import cholesky"
     ],
     "language": "python",
     "metadata": {},
     "outputs": [],
     "prompt_number": 17
    },
    {
     "cell_type": "code",
     "collapsed": false,
     "input": [
      "def multivariateGaussianRand(M, mu, Sigma):\n",
      "    \"\"\"\n",
      "    multivariateGaussianRand: Generate random numbers from a D-dimensional Gaussian\n",
      "\n",
      "    INPUT:\n",
      "         M : size of the sample\n",
      "        mu : vector of means   [D,1]\n",
      "     Sigma : covariance matrix [D,D]\n",
      "\n",
      "    OUTPUT:\n",
      "         Z : Sample from N(mu,Sigma) Gaussian  [M,D]  \n",
      "    \"\"\"\n",
      "    mu = np.asarray(mu)\n",
      "    Sigma = np.asarray(Sigma)\n",
      "    \n",
      "    D = mu.size\n",
      "    \n",
      "    L = cholesky(Sigma).T\n",
      "    \n",
      "    ## Generate M samples of D-dimensional vectors of independent Gaussians \n",
      "    X = np.random.randn(D, M)\n",
      "    \n",
      "    \n",
      "    ## Transform vectors into vectors with proper mean and correlations\n",
      "    Z = mu[:, np.newaxis] + np.dot(L, X)\n",
      "    return Z.T"
     ],
     "language": "python",
     "metadata": {},
     "outputs": [],
     "prompt_number": 18
    },
    {
     "cell_type": "markdown",
     "metadata": {},
     "source": [
      "For example,"
     ]
    },
    {
     "cell_type": "code",
     "collapsed": false,
     "input": [
      "print multivariateGaussianRand(5, [1,2,3], [[1, .8,.1], [.8, 1, .2], [.1, .2, 1]])"
     ],
     "language": "python",
     "metadata": {},
     "outputs": [
      {
       "output_type": "stream",
       "stream": "stdout",
       "text": [
        "[[ 2.28535028  2.34348062  4.37298145]\n",
        " [ 0.67509569  1.68891011  3.12171762]\n",
        " [ 3.29645543  3.90892868  3.53170911]\n",
        " [-0.03596496  1.42647563  3.42979056]\n",
        " [-0.44609467  1.03210928  3.79779816]]\n"
       ]
      }
     ],
     "prompt_number": 19
    },
    {
     "cell_type": "markdown",
     "metadata": {},
     "source": [
      "Below we plot the case of a 2D gaussian distribution. "
     ]
    },
    {
     "cell_type": "code",
     "collapsed": false,
     "input": [
      "from scipy.linalg import det, inv\n",
      "def graph2DGaussian(mu, Sigma, alpha=3, nContours=25):\n",
      "    ## Generate 2-dimensional grid\n",
      "    nPlot = 100\n",
      "    Sigma = np.asarray(Sigma).astype(np.float)\n",
      "\n",
      "    mu = np.asarray(mu).astype(np.float)\n",
      "    \n",
      "    radii = alpha * np.diag(np.sqrt(Sigma))\n",
      "\n",
      "    z1 = np.linspace(mu[0] - radii[0], mu[0] + radii[0], nPlot)\n",
      "    z2 = np.linspace(mu[1] - radii[1], mu[1] + radii[1], nPlot)\n",
      "    \n",
      "    [Z1, Z2] = np.meshgrid(z1,z2)\n",
      "\n",
      "    detSigma = det(Sigma)\n",
      "    invSigma = inv(Sigma)\n",
      "    \n",
      "    z = (np.r_[Z1[np.newaxis],Z2[np.newaxis]] - mu[:, np.newaxis, np.newaxis] )\n",
      "    \n",
      "    # To make use of vectorization (i.e. avoid looping) we need some clever broadcasting of the indices.\n",
      "    z = z[..., np.newaxis]\n",
      "    zT = np.swapaxes(z, 0, 3)    \n",
      "    invSigma = invSigma[:, np.newaxis, np.newaxis, :]\n",
      "    \n",
      "    f = np.exp(- .5 * (zT * invSigma * z).sum(axis=(0, 3))) / (2 * np.pi * np.sqrt(detSigma))\n",
      "\n",
      "    fig = plt.figure()\n",
      "    plt.contour(Z1, Z2, f, nContours)\n",
      "\n",
      "    plt.show()\n",
      "    \n",
      "    \n",
      "    \n",
      "graph2DGaussian([1, 2], [[1., .8], [.8, 2]])"
     ],
     "language": "python",
     "metadata": {},
     "outputs": [
      {
       "metadata": {},
       "output_type": "display_data",
       "png": "[encoded data removed]",
       "text": [
        "<matplotlib.figure.Figure at 0x9df12e8>"
       ]
      }
     ],
     "prompt_number": 20
    },
    {
     "cell_type": "heading",
     "level": 4,
     "metadata": {},
     "source": [
      "Basket Options -- pricing scheme"
     ]
    },
    {
     "cell_type": "markdown",
     "metadata": {},
     "source": [
      "A basket option is an option on an underlying which is comprised out of a weighted average of other assets. For example, an index fund is a portfolio of assets with the weight $a_i$ of each asset $S_i$ is given by the number of assets $S_i$ in the portfolio (or basket). The price of the portfolio is then the weighted average $U(t) = \\sum_i a_i S_i(t)$. A basket call option with strike $K$ is then determined by the payoff $\\text{max}(U(T) - K, 0)$. In this case of a simple portfolio the option is also known as a portfolio option.\n",
      "\n",
      "In the Black-Scholes model the stocks in the portfolio are modeled by geometric Brownian motion. However, the sum of lognormal distributions is itself not a lognormal distribution, so the portfolio cannot be modeled using geometric Brownian motion. \n",
      "\n",
      "The portfolio and corresponding basket option become even more interesting when we consider correlated assets. This can be performed using the language of multivariate Gaussians as introduced above.\n",
      "\n",
      "To price a basket option using MC for correlated assets we need to go back to the drawing board. Here we only look at the case of an option consisting of two options. For each stock we have the initial $S_0$, the volatility $\\sigma_i$ and weight in the portfolio $c$. "
     ]
    },
    {
     "cell_type": "code",
     "collapsed": false,
     "input": [
      "def priceBasket2CallMC(S1_0,S2_0,c1,c2,K,r,T,sigma1,sigma2,rho,M):\n",
      "    \"\"\"\n",
      "    priceBasket2CallMC: Price of a call option on a 2 asset basket in the Black-Scholes model\n",
      "\n",
      "    INPUT:\n",
      "      S1_0 : Initial value of the underlying asset I\n",
      "      S2_0 : Initial value of the underlying asset II\n",
      "        c1 : coefficient of asset I  in the basket\n",
      "        c2 : coefficient of asset II in the basket\n",
      "         K : Strike \n",
      "         r : Risk-free interest rate \n",
      "         T : Time to expiry \n",
      "    sigma1 : Volatility of asset I\n",
      "    sigma2 : Volatility of asset II\n",
      "       rho : Correlation between the asset log-returns\n",
      "         M : Number of simulations\n",
      "\n",
      "    OUTPUT:\n",
      "     price_MC : MC estimate of the price of the option in the Black-Scholes model  \n",
      "     stdev_MC : MC estimate of the standard deviation  \n",
      "EXAMPLE:   \n",
      "%        S1_0 = 100; c1 = 0.4; sigma1 = 0.2;\n",
      "%        S2_0 = 200; c2 = 0.3; sigma2 = 0.4;\n",
      "%        rho = 0.5;\n",
      "%        K = 90; r = 0.05; T = 2; \n",
      "%        M = 1e6; \n",
      "%        [price_MC,stdev_MC] = priceBasket2CallMC(S1_0,S2_0,c1,c2,K,r,T,sigma1,sigma2,rho,M)\n",
      "%        price = priceBasket2Call(S1_0,S2_0,c1,c2,K,r,T,sigma1,sigma2,rho)\n",
      "    \"\"\"\n",
      "    \n",
      "    ## Generate M x 2 independent samples from N(0,1)\n",
      "    X1 = np.random.randn(M)\n",
      "    X2 = np.random.randn(M)\n",
      "    \n",
      "    ## Generate M x 2 correlated samples from N(0,rho)\n",
      "    Z1 = X1\n",
      "    Z2 = rho * X1 + np.sqrt(1 - rho**2) * X2\n",
      "    \n",
      "    ### Note that we could also use our function multivariateGaussianRand to generate these samples.\n",
      "    \n",
      "    ## Simulate M trajectories in one step\n",
      "    S1_T = S1_0 * np.exp((r - 0.5 * sigma1**2) * T + sigma1 * np.sqrt(T) * Z1)\n",
      "    S2_T = S2_0 * np.exp((r - 0.5 * sigma2**2) * T + sigma2 * np.sqrt(T) * Z2)\n",
      "    \n",
      "    ## Compute the payoff\n",
      "    basketValue = c1 * S1_T + c2 * S2_T\n",
      "    payoff      = np.where(basketValue < K, 0, basketValue - K)\n",
      "    \n",
      "    ## MC estimate of the price and the error of the option\n",
      "    discountFactor = exp(-r*T)\n",
      "    price_MC = discountFactor*mean(payoff)\n",
      "    stdev_MC = discountFactor*std(payoff)/sqrt(M)\n",
      "    return price_MC, stdev_MC"
     ],
     "language": "python",
     "metadata": {},
     "outputs": [],
     "prompt_number": 21
    },
    {
     "cell_type": "code",
     "collapsed": false,
     "input": [
      "priceBasket2CallMC(100, 100, .6, .4, 90, .01, 2, .2, .4,.5, 1e6)"
     ],
     "language": "python",
     "metadata": {},
     "outputs": [
      {
       "metadata": {},
       "output_type": "pyout",
       "prompt_number": 22,
       "text": [
        "(19.423470998394375, 0.029411984098633426)"
       ]
      }
     ],
     "prompt_number": 22
    },
    {
     "cell_type": "markdown",
     "metadata": {},
     "source": [
      "The price of a 2-asset basket option can also be obtained from an integral, which we approximate using numerical integration. This integral is simply the expected value of the payoff of the function function average with respect to the distribution of the two underlying assets at the time of maturity."
     ]
    },
    {
     "cell_type": "code",
     "collapsed": false,
     "input": [
      "from scipy.integrate import quad\n",
      "\n",
      "def priceBasket2Call(S1_0,S2_0,c1,c2,K,r,T,sigma1,sigma2,rho):\n",
      "    \"\"\"\n",
      "    priceBasket2CallMC: Price of a call option on a 2 asset basket in the Black-Scholes model\n",
      "\n",
      "    INPUT:\n",
      "      S1_0 : Initial value of the underlying asset I\n",
      "      S2_0 : Initial value of the underlying asset II\n",
      "        c1 : coefficient of asset I  in the basket\n",
      "        c2 : coefficient of asset II in the basket\n",
      "         K : Strike \n",
      "         r : Risk-free interest rate \n",
      "         T : Time to expiry \n",
      "    sigma1 : Volatility of asset I\n",
      "    sigma2 : Volatility of asset II\n",
      "       rho : Correlation between the asset log-returns\n",
      "\n",
      "    OUTPUT:\n",
      "     price: Price of the option in the Black-Scholes model  \n",
      "\n",
      "      USES:\n",
      "     integrand_priceBasket2Call.m\n",
      "%\n",
      "%% EXAMPLE:   \n",
      "%        S1_0 = 100; c1 = 0.4; sigma1 = 0.2;\n",
      "%        S2_0 = 200; c2 = 0.3; sigma2 = 0.4;\n",
      "%        rho = 0.5;\n",
      "%        K = 90; r = 0.05; T = 2; \n",
      "%        price = priceBasket2Call(S1_0,S2_0,c1,c2,K,r,T,sigma1,sigma2,rho)\n",
      "%        M = 1e6;\n",
      "%        [price_MC,stdev_MC] = priceBasket2CallMC(S1_0,S2_0,c1,c2,K,r,T,sigma1,sigma2,rho,M)\n",
      "    \"\"\"\n",
      "\n",
      "    ## External integrand\n",
      "    def externalIntegrand(x1):\n",
      "        return norm.pdf(x1) * integrand_priceBasket2Call(x1,S1_0,S2_0,c1,c2,K,r,T,sigma1,sigma2,rho)\n",
      "\n",
      "\n",
      "    ## Pricing formula          \n",
      "    discountFactor = exp(-r*T)\n",
      "    \n",
      "    R     = 10.0\n",
      "    TOL   = 1.0e-4\n",
      "    price = discountFactor * quad(externalIntegrand, -R, R, epsabs=TOL, epsrel=TOL)[0]\n",
      "    return price"
     ],
     "language": "python",
     "metadata": {},
     "outputs": [],
     "prompt_number": 23
    },
    {
     "cell_type": "markdown",
     "metadata": {},
     "source": [
      "And the externalIntegrand is defined as"
     ]
    },
    {
     "cell_type": "code",
     "collapsed": false,
     "input": [
      "def integrand_priceBasket2Call(x1,S1_0,S2_0,c1,c2,K,r,T,sigma1,sigma2,rho):\n",
      "    \"\"\"\n",
      "    integrand_priceBasket2Call: auxiliary function for priceBasket2Call\n",
      "    INPUT:\n",
      "        x1 : integration variable\n",
      "      S1_0 : Initial value of the underlying asset I\n",
      "      S2_0 : Initial value of the underlying asset II\n",
      "        c1 : coefficient of asset I  in the basket\n",
      "        c2 : coefficient of asset II in the basket\n",
      "         K : Strike \n",
      "         r : Risk-free interest rate \n",
      "         T : Time to expiry \n",
      "    sigma1 : Volatility of asset I\n",
      "    sigma2 : Volatility of asset II\n",
      "       rho : Correlation between the asset log-returns\n",
      "\n",
      "    OUTPUT:\n",
      "     externalIntegrand : External integrand to price of the option in the Black-Scholes model  \n",
      "    \"\"\"\n",
      "    def S1_T(x2):\n",
      "        return S1_0 * exp((r-0.5*sigma1**2) * T + sigma1 * np.sqrt(T) * x1)\n",
      "    def S2_T(x2):\n",
      "        return S2_0 * exp((r-0.5*sigma2**2) * T + sigma2 * np.sqrt(T) * (rho * x1+sqrt(1-rho**2)*x2))      \n",
      "\n",
      "    \n",
      "    def basketValue(x2):\n",
      "        return c1 * S1_T(x2) + c2 * S2_T(x2)\n",
      "    def payoff(x2):\n",
      "        p = basketValue(x2) - K\n",
      "        return np.max([p, 0])\n",
      "    def internalIntegrand(x2):\n",
      "        return norm.pdf(x2) * payoff(x2)\n",
      "    \n",
      "    R   = 10.0;\n",
      "    TOL = 1.0e-4;\n",
      "        \n",
      "    externalIntegrand = quad(internalIntegrand,-R,R, epsabs=TOL, epsrel=TOL)[0]\n",
      "    return externalIntegrand"
     ],
     "language": "python",
     "metadata": {},
     "outputs": [],
     "prompt_number": 24
    },
    {
     "cell_type": "markdown",
     "metadata": {},
     "source": [
      "Finally, we compare the two methods:"
     ]
    },
    {
     "cell_type": "code",
     "collapsed": false,
     "input": [
      "def example():\n",
      "    S1_0 = 100; c1 = 0.4; sigma1 = 0.2;\n",
      "    S2_0 = 200; c2 = 0.3; sigma2 = 0.4;\n",
      "    rho = 0.5;\n",
      "    K = 90; r = 0.05; T = 2; \n",
      "    price = priceBasket2Call(S1_0,S2_0,c1,c2,K,r,T,sigma1,sigma2,rho)\n",
      "    M=1e6\n",
      "    price_MC, std_MC = priceBasket2CallMC(S1_0,S2_0,c1,c2,K,r,T,sigma1,sigma2,rho,M)\n",
      "    return price, price_MC\n",
      "print example()"
     ],
     "language": "python",
     "metadata": {},
     "outputs": [
      {
       "output_type": "stream",
       "stream": "stdout",
       "text": [
        "(25.445726651882392, 25.405206396785928)\n"
       ]
      }
     ],
     "prompt_number": 25
    },
    {
     "cell_type": "code",
     "collapsed": false,
     "input": [],
     "language": "python",
     "metadata": {},
     "outputs": [],
     "prompt_number": 25
    }
   ],
   "metadata": {}
  }
 ]
}